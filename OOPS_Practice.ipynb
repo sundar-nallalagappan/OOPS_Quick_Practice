{
 "cells": [
  {
   "cell_type": "code",
   "execution_count": 79,
   "id": "c0ff3f4c",
   "metadata": {},
   "outputs": [
    {
     "name": "stdout",
     "output_type": "stream",
     "text": [
      "      \n"
     ]
    }
   ],
   "source": [
    "print(\"      \")"
   ]
  },
  {
   "cell_type": "markdown",
   "id": "26744c14",
   "metadata": {},
   "source": [
    "<b>\n",
    "1) what is class, methods, instantiated objects? <br>\n",
    "2) constructors - init <br>\n",
    "3) assert - data validation <br>\n",
    "4) class level attributes <br>\n",
    "5) accessing class level attributes <br>\n",
    "6) __rep__ method - to represent the object under the class    <br>\n",
    "7) Need for classmethod <br>\n",
    "8) Static method\n",
    "</b>"
   ]
  },
  {
   "cell_type": "code",
   "execution_count": 3,
   "id": "9a7eab6c",
   "metadata": {},
   "outputs": [],
   "source": [
    "class Item:\n",
    "    pass"
   ]
  },
  {
   "cell_type": "code",
   "execution_count": 6,
   "id": "df768835",
   "metadata": {},
   "outputs": [],
   "source": [
    "item = Item()\n",
    "\n",
    "#Set the attributes for the instantiated object\n",
    "item.name     = 'Phone'\n",
    "item.price    = 100\n",
    "item.quantity = 5"
   ]
  },
  {
   "cell_type": "code",
   "execution_count": 17,
   "id": "252b3831",
   "metadata": {},
   "outputs": [],
   "source": [
    "# Update the class\n",
    "class Item:\n",
    "    \n",
    "    def calculate_total(self, x, y):\n",
    "        return x*y"
   ]
  },
  {
   "cell_type": "code",
   "execution_count": 19,
   "id": "97745b99",
   "metadata": {},
   "outputs": [
    {
     "name": "stdout",
     "output_type": "stream",
     "text": [
      "500\n",
      "1000\n"
     ]
    }
   ],
   "source": [
    "item1 = Item()\n",
    "\n",
    "#Set the attributes for the instantiated object\n",
    "item1.name     = 'Phone'\n",
    "item1.price    = 100\n",
    "item1.quantity = 5\n",
    "\n",
    "#Set the attributes for the instantiated object\n",
    "item2 = Item()\n",
    "item2.name     = 'Laptop'\n",
    "item2.price    = 500\n",
    "item2.quantity = 2\n",
    "\n",
    "print(item1.calculate_total(item1.price, item1.quantity))\n",
    "print(item2.calculate_total(item2.price, item2.quantity))"
   ]
  },
  {
   "cell_type": "code",
   "execution_count": 52,
   "id": "59cd9fec",
   "metadata": {},
   "outputs": [],
   "source": [
    "# Update the class\n",
    "# assert class to check the recived argument if they match the expectations - data validations\n",
    "class Item:\n",
    "    \n",
    "    def __init__(self, name: str, price: float, quantity=0):\n",
    "        #data validations\n",
    "        assert price >= 0, f\"price {price} is not greater than 0\"\n",
    "        assert quantity >= 0, f\"quantity {quantity} is not greater than 0\"\n",
    "        \n",
    "        #Assignment to self object\n",
    "        print(f\"Instance created for {name}\")\n",
    "        self.name     = name\n",
    "        self.price    = price\n",
    "        self.quantity = quantity\n",
    "    \n",
    "    def calculate_total(self):\n",
    "        print('under calculate total method')\n",
    "        print(self.name, self.price, self.quantity)\n",
    "        return self.price * self.quantity"
   ]
  },
  {
   "cell_type": "code",
   "execution_count": 53,
   "id": "dce520d2",
   "metadata": {},
   "outputs": [
    {
     "name": "stdout",
     "output_type": "stream",
     "text": [
      "Instance created for phone\n"
     ]
    },
    {
     "ename": "AssertionError",
     "evalue": "quantity -2 is not greater than 0",
     "output_type": "error",
     "traceback": [
      "\u001b[1;31m---------------------------------------------------------------------------\u001b[0m",
      "\u001b[1;31mAssertionError\u001b[0m                            Traceback (most recent call last)",
      "\u001b[1;32m<ipython-input-53-d6f05632abcc>\u001b[0m in \u001b[0;36m<module>\u001b[1;34m\u001b[0m\n\u001b[0;32m      6\u001b[0m \u001b[1;33m\u001b[0m\u001b[0m\n\u001b[0;32m      7\u001b[0m \u001b[1;31m#Set the attributes for the instantiated object\u001b[0m\u001b[1;33m\u001b[0m\u001b[1;33m\u001b[0m\u001b[1;33m\u001b[0m\u001b[0m\n\u001b[1;32m----> 8\u001b[1;33m \u001b[0mitem2\u001b[0m \u001b[1;33m=\u001b[0m \u001b[0mItem\u001b[0m\u001b[1;33m(\u001b[0m\u001b[1;34m'Laptop'\u001b[0m\u001b[1;33m,\u001b[0m \u001b[1;36m500\u001b[0m\u001b[1;33m,\u001b[0m \u001b[1;33m-\u001b[0m\u001b[1;36m2\u001b[0m\u001b[1;33m)\u001b[0m\u001b[1;33m\u001b[0m\u001b[1;33m\u001b[0m\u001b[0m\n\u001b[0m\u001b[0;32m      9\u001b[0m \u001b[1;31m#item2.name     =\u001b[0m\u001b[1;33m\u001b[0m\u001b[1;33m\u001b[0m\u001b[1;33m\u001b[0m\u001b[0m\n\u001b[0;32m     10\u001b[0m \u001b[1;31m#item2.price    = 500\u001b[0m\u001b[1;33m\u001b[0m\u001b[1;33m\u001b[0m\u001b[1;33m\u001b[0m\u001b[0m\n",
      "\u001b[1;32m<ipython-input-52-9311c2d02278>\u001b[0m in \u001b[0;36m__init__\u001b[1;34m(self, name, price, quantity)\u001b[0m\n\u001b[0;32m      6\u001b[0m         \u001b[1;31m#data validations\u001b[0m\u001b[1;33m\u001b[0m\u001b[1;33m\u001b[0m\u001b[1;33m\u001b[0m\u001b[0m\n\u001b[0;32m      7\u001b[0m         \u001b[1;32massert\u001b[0m \u001b[0mprice\u001b[0m \u001b[1;33m>=\u001b[0m \u001b[1;36m0\u001b[0m\u001b[1;33m,\u001b[0m \u001b[1;34mf\"price {price} is not greater than 0\"\u001b[0m\u001b[1;33m\u001b[0m\u001b[1;33m\u001b[0m\u001b[0m\n\u001b[1;32m----> 8\u001b[1;33m         \u001b[1;32massert\u001b[0m \u001b[0mquantity\u001b[0m \u001b[1;33m>=\u001b[0m \u001b[1;36m0\u001b[0m\u001b[1;33m,\u001b[0m \u001b[1;34mf\"quantity {quantity} is not greater than 0\"\u001b[0m\u001b[1;33m\u001b[0m\u001b[1;33m\u001b[0m\u001b[0m\n\u001b[0m\u001b[0;32m      9\u001b[0m \u001b[1;33m\u001b[0m\u001b[0m\n\u001b[0;32m     10\u001b[0m         \u001b[1;31m#Assignment to self object\u001b[0m\u001b[1;33m\u001b[0m\u001b[1;33m\u001b[0m\u001b[1;33m\u001b[0m\u001b[0m\n",
      "\u001b[1;31mAssertionError\u001b[0m: quantity -2 is not greater than 0"
     ]
    }
   ],
   "source": [
    "item1 = Item('phone', 200, 5)\n",
    "#Set the attributes for the instantiated object\n",
    "#item1.name     = 'Phone'\n",
    "#item1.price    = 100\n",
    "#item1.quantity = 5\n",
    "\n",
    "#Set the attributes for the instantiated object\n",
    "item2 = Item('Laptop', 500, -2)\n",
    "#item2.name     = \n",
    "#item2.price    = 500\n",
    "#item2.quantity = 2\n",
    "\n",
    "print('***')\n",
    "print(item1.name, item1.price, item1.quantity)\n",
    "print(item2.name, item2.price, item2.quantity)\n",
    "\n",
    "item1.calculate_total()"
   ]
  },
  {
   "cell_type": "code",
   "execution_count": 72,
   "id": "79f03c44",
   "metadata": {},
   "outputs": [],
   "source": [
    "#Class atrribute - common for all instances\n",
    "# Update the class\n",
    "# assert class to check the recived argument if they match the expectations - data validations\n",
    "class Item:\n",
    "    \n",
    "    pay_rate = 0.8  #pay rate after discount of 20%\n",
    "    \n",
    "    def __init__(self, name: str, price: float, quantity=0):\n",
    "        #data validations\n",
    "        assert price >= 0, f\"price {price} is not greater than 0\"\n",
    "        assert quantity >= 0, f\"quantity {quantity} is not greater than 0\"\n",
    "        \n",
    "        #Assignment to self object\n",
    "        print(f\"Instance created for {name}\")\n",
    "        self.name     = name\n",
    "        self.price    = price\n",
    "        self.quantity = quantity\n",
    "    \n",
    "    def calculate_total(self):\n",
    "        print('under calculate total method')\n",
    "        print(self.name, self.price, self.quantity)\n",
    "        return self.price * self.quantity\n",
    "    \n",
    "    def apply_discount(self):\n",
    "        print(\"apply discount\")\n",
    "        self.price = self.price * self.pay_rate\n",
    "        #return self.price"
   ]
  },
  {
   "cell_type": "code",
   "execution_count": 73,
   "id": "c9795709",
   "metadata": {},
   "outputs": [
    {
     "name": "stdout",
     "output_type": "stream",
     "text": [
      "0.8\n",
      "Instance created for phone\n",
      "0.8\n",
      "{'__module__': '__main__', 'pay_rate': 0.8, '__init__': <function Item.__init__ at 0x0000021A497154C0>, 'calculate_total': <function Item.calculate_total at 0x0000021A49715550>, 'apply_discount': <function Item.apply_discount at 0x0000021A497155E0>, '__dict__': <attribute '__dict__' of 'Item' objects>, '__weakref__': <attribute '__weakref__' of 'Item' objects>, '__doc__': None}\n",
      "{'name': 'phone', 'price': 200, 'quantity': 5}\n"
     ]
    }
   ],
   "source": [
    "print(Item.pay_rate) #can access at class level\n",
    "\n",
    "item1 = Item('phone', 200, 5)\n",
    "print(item1.pay_rate)  #can access at object level as well\n",
    "\n",
    "#magic attribute - show all attrbiutes\n",
    "print(Item.__dict__)\n",
    "print(item1.__dict__)"
   ]
  },
  {
   "cell_type": "code",
   "execution_count": 75,
   "id": "67c5e4a7",
   "metadata": {},
   "outputs": [
    {
     "name": "stdout",
     "output_type": "stream",
     "text": [
      "Instance created for phone\n",
      "apply discount\n",
      "160.0\n"
     ]
    }
   ],
   "source": [
    "item1 = Item('phone', 200, 5)\n",
    "item1.apply_discount()\n",
    "print(item1.price)"
   ]
  },
  {
   "cell_type": "code",
   "execution_count": 78,
   "id": "f4c111a9",
   "metadata": {},
   "outputs": [
    {
     "name": "stdout",
     "output_type": "stream",
     "text": [
      "Instance created for Laptop\n",
      "apply discount\n",
      "500.0\n"
     ]
    }
   ],
   "source": [
    "item2 = Item('Laptop', 1000, 2)\n",
    "item2.pay_rate = 0.5   # ==> #instance level variable will override the class level attribute\n",
    "item2.apply_discount()\n",
    "print(item2.price)"
   ]
  },
  {
   "cell_type": "code",
   "execution_count": 80,
   "id": "2e2a7e5b",
   "metadata": {},
   "outputs": [
    {
     "name": "stdout",
     "output_type": "stream",
     "text": [
      "Instance created for Phone\n",
      "Instance created for Laptop\n",
      "Instance created for Cable\n",
      "Instance created for Mouse\n",
      "Instance created for Keyboard\n"
     ]
    }
   ],
   "source": [
    "item1 = Item('Phone', 100, 1)\n",
    "item2 = Item('Laptop', 1000, 3)\n",
    "item3 = Item('Cable', 10, 5)\n",
    "item4 = Item('Mouse', 50, 5)\n",
    "item5 = Item('Keyboard', 75, 5)"
   ]
  },
  {
   "cell_type": "code",
   "execution_count": 91,
   "id": "eb2864d5",
   "metadata": {},
   "outputs": [],
   "source": [
    "#To create a list with all object created for the class\n",
    "#Class atrribute - common for all instances\n",
    "# Update the class\n",
    "# assert class to check the recived argument if they match the expectations - data validations\n",
    "class Item:\n",
    "    \n",
    "    pay_rate = 0.8  #pay rate after discount of 20%\n",
    "    all = []\n",
    "    \n",
    "    def __init__(self, name: str, price: float, quantity=0):\n",
    "        #data validations\n",
    "        assert price >= 0, f\"price {price} is not greater than 0\"\n",
    "        assert quantity >= 0, f\"quantity {quantity} is not greater than 0\"\n",
    "        \n",
    "        #Assignment to self object\n",
    "        print(f\"Instance created for {name}\")\n",
    "        self.name     = name\n",
    "        self.price    = price\n",
    "        self.quantity = quantity\n",
    "        \n",
    "        #Actions to execute\n",
    "        #Class attribute to store the objects created\n",
    "        Item.all.append(self)\n",
    "    \n",
    "    def calculate_total(self):\n",
    "        print('under calculate total method')\n",
    "        print(self.name, self.price, self.quantity)\n",
    "        return self.price * self.quantity\n",
    "    \n",
    "    def apply_discount(self):\n",
    "        print(\"apply discount\")\n",
    "        self.price = self.price * self.pay_rate\n",
    "        #return self.price\n",
    "        \n",
    "    #Magic method (constructor) to define the way we want to represent the objects\n",
    "    def __repr__(self):\n",
    "        print('representation method')\n",
    "        return f\"Item('{self.name}', {self.price}, {self.quantity})\""
   ]
  },
  {
   "cell_type": "code",
   "execution_count": 92,
   "id": "e8dc8bd6",
   "metadata": {},
   "outputs": [
    {
     "name": "stdout",
     "output_type": "stream",
     "text": [
      "Instance created for Phone\n",
      "Instance created for Laptop\n",
      "Instance created for Cable\n",
      "Instance created for Mouse\n",
      "Instance created for Keyboard\n"
     ]
    }
   ],
   "source": [
    "item1 = Item('Phone', 100, 1)\n",
    "item2 = Item('Laptop', 1000, 3)\n",
    "item3 = Item('Cable', 10, 5)\n",
    "item4 = Item('Mouse', 50, 5)\n",
    "item5 = Item('Keyboard', 75, 5)"
   ]
  },
  {
   "cell_type": "code",
   "execution_count": 96,
   "id": "16964161",
   "metadata": {},
   "outputs": [
    {
     "name": "stdout",
     "output_type": "stream",
     "text": [
      "representation method\n",
      "representation method\n",
      "representation method\n",
      "representation method\n",
      "representation method\n"
     ]
    },
    {
     "data": {
      "text/plain": [
       "[Item('Phone', 100, 1),\n",
       " Item('Laptop', 1000, 3),\n",
       " Item('Cable', 10, 5),\n",
       " Item('Mouse', 50, 5),\n",
       " Item('Keyboard', 75, 5)]"
      ]
     },
     "execution_count": 96,
     "metadata": {},
     "output_type": "execute_result"
    }
   ],
   "source": [
    "Item.all"
   ]
  },
  {
   "cell_type": "markdown",
   "id": "b387a37a",
   "metadata": {},
   "source": [
    "* 5 objects have been instantiated on the class Item"
   ]
  },
  {
   "cell_type": "code",
   "execution_count": 95,
   "id": "8c0540c8",
   "metadata": {
    "scrolled": true
   },
   "outputs": [
    {
     "name": "stdout",
     "output_type": "stream",
     "text": [
      "Phone\n",
      "Laptop\n",
      "Cable\n",
      "Mouse\n",
      "Keyboard\n"
     ]
    }
   ],
   "source": [
    "for instance in Item.all:\n",
    "    print(instance.name)"
   ]
  },
  {
   "cell_type": "code",
   "execution_count": 94,
   "id": "78dcf919",
   "metadata": {},
   "outputs": [
    {
     "name": "stdout",
     "output_type": "stream",
     "text": [
      "representation method\n"
     ]
    },
    {
     "data": {
      "text/plain": [
       "\"Item('Laptop', 1000, 3)\""
      ]
     },
     "execution_count": 94,
     "metadata": {},
     "output_type": "execute_result"
    }
   ],
   "source": [
    "item2.__repr__()"
   ]
  },
  {
   "cell_type": "code",
   "execution_count": 116,
   "id": "30c99299",
   "metadata": {},
   "outputs": [],
   "source": [
    "## Class Method\n",
    "'''\n",
    "Scenario - To have a method under the class to instantiate the object itself - \n",
    "so we cannot really have an object to instantitate rather there is a method defined to do this job\n",
    "'''\n",
    "\n",
    "#To create a list with all object created for the class\n",
    "#Class atrribute - common for all instances\n",
    "# Update the class\n",
    "# assert class to check the recived argument if they match the expectations - data validations\n",
    "\n",
    "import csv\n",
    "\n",
    "class Item:\n",
    "    \n",
    "    pay_rate = 0.8  #pay rate after discount of 20%\n",
    "    all = []\n",
    "    \n",
    "    def __init__(self, name: str, price: float, quantity=0):\n",
    "        #data validations\n",
    "        assert price >= 0, f\"price {price} is not greater than 0\"\n",
    "        assert quantity >= 0, f\"quantity {quantity} is not greater than 0\"\n",
    "        \n",
    "        #Assignment to self object\n",
    "        print(f\"Instance created for {name}\")\n",
    "        self.name     = name\n",
    "        self.price    = price\n",
    "        self.quantity = quantity\n",
    "        \n",
    "        #Actions to execute\n",
    "        #Class attribute to store the objects created\n",
    "        Item.all.append(self)\n",
    "    \n",
    "    def calculate_total(self):\n",
    "        print('under calculate total method')\n",
    "        print(self.name, self.price, self.quantity)\n",
    "        return self.price * self.quantity\n",
    "    \n",
    "    def apply_discount(self):\n",
    "        print(\"apply discount\")\n",
    "        self.price = self.price * self.pay_rate\n",
    "        #return self.price\n",
    "        \n",
    "    @classmethod\n",
    "    def instantiate_from_csv(cls):\n",
    "        with open('item.csv', 'r') as f:\n",
    "            #read the complete csv file as a dict using below method\n",
    "            reader = csv.DictReader(f)\n",
    "            print(reader)\n",
    "            \n",
    "            items = list(reader)\n",
    "            print(items)\n",
    "        \n",
    "        for item in items:\n",
    "            print(item)\n",
    "            Item(name     = item.get('name'),\n",
    "                 price    = float(item.get('price')),\n",
    "                 quantity = int(item.get('quantity'))\n",
    "                )\n",
    "            \n",
    "        \n",
    "        \n",
    "    #Magic method (constructor) to define the way we want to represent the objects\n",
    "    def __repr__(self):\n",
    "        print('representation method')\n",
    "        return f\"Item('{self.name}', {self.price}, {self.quantity})\"\n"
   ]
  },
  {
   "cell_type": "code",
   "execution_count": 117,
   "id": "923622f0",
   "metadata": {},
   "outputs": [
    {
     "name": "stdout",
     "output_type": "stream",
     "text": [
      "<csv.DictReader object at 0x0000021A494292B0>\n",
      "[{'name': \"'Phone'\", 'price': ' 100', 'quantity': ' 1'}, {'name': \"'Laptop'\", 'price': ' 1000', 'quantity': ' 3'}, {'name': \"'Cable'\", 'price': ' 10', 'quantity': ' 5'}, {'name': \"'Mouse'\", 'price': ' 50', 'quantity': ' 5'}, {'name': \"'Keyboard'\", 'price': ' 75', 'quantity': ' 5'}]\n",
      "{'name': \"'Phone'\", 'price': ' 100', 'quantity': ' 1'}\n",
      "Instance created for 'Phone'\n",
      "{'name': \"'Laptop'\", 'price': ' 1000', 'quantity': ' 3'}\n",
      "Instance created for 'Laptop'\n",
      "{'name': \"'Cable'\", 'price': ' 10', 'quantity': ' 5'}\n",
      "Instance created for 'Cable'\n",
      "{'name': \"'Mouse'\", 'price': ' 50', 'quantity': ' 5'}\n",
      "Instance created for 'Mouse'\n",
      "{'name': \"'Keyboard'\", 'price': ' 75', 'quantity': ' 5'}\n",
      "Instance created for 'Keyboard'\n",
      "representation method\n",
      "representation method\n",
      "representation method\n",
      "representation method\n",
      "representation method\n",
      "[Item(''Phone'', 100.0, 1), Item(''Laptop'', 1000.0, 3), Item(''Cable'', 10.0, 5), Item(''Mouse'', 50.0, 5), Item(''Keyboard'', 75.0, 5)]\n"
     ]
    }
   ],
   "source": [
    "Item.instantiate_from_csv()\n",
    "print(Item.all)"
   ]
  },
  {
   "cell_type": "code",
   "execution_count": 140,
   "id": "b9be634a",
   "metadata": {},
   "outputs": [],
   "source": [
    "#static method ==>\n",
    "\n",
    "'''\n",
    "Scenario - works like isolated functions\n",
    "no need to send the instantiated object like regular methods or no need to send the class itself like class methods\n",
    "can be done when the specific method is not to be unique spefic to each instance - in general to check about the \n",
    "data type\n",
    "Technically static method is similar to isolated function but logically we are trying to group under the same class\n",
    "'''\n",
    "\n",
    "#To create a list with all object created for the class\n",
    "#Class atrribute - common for all instances\n",
    "# Update the class\n",
    "# assert class to check the recived argument if they match the expectations - data validations\n",
    "\n",
    "import csv\n",
    "\n",
    "class Item:\n",
    "    \n",
    "    pay_rate = 0.8  #pay rate after discount of 20%\n",
    "    all = []\n",
    "    \n",
    "    def __init__(self, name: str, price: float, quantity=0):\n",
    "        #data validations\n",
    "        assert price >= 0, f\"price {price} is not greater than 0\"\n",
    "        assert quantity >= 0, f\"quantity {quantity} is not greater than 0\"\n",
    "        \n",
    "        #Assignment to self object\n",
    "        print(f\"Instance created for {name}\")\n",
    "        self.name     = name\n",
    "        self.price    = price\n",
    "        self.quantity = quantity\n",
    "        \n",
    "        #Actions to execute\n",
    "        #Class attribute to store the objects created\n",
    "        Item.all.append(self)\n",
    "    \n",
    "    def calculate_total(self):\n",
    "        print('under calculate total method')\n",
    "        print(self.name, self.price, self.quantity)\n",
    "        return self.price * self.quantity\n",
    "    \n",
    "    def apply_discount(self):\n",
    "        print(\"apply discount\")\n",
    "        self.price = self.price * self.pay_rate\n",
    "        #return self.price\n",
    "        \n",
    "    @classmethod\n",
    "    def instantiate_from_csv(cls):\n",
    "        with open('item.csv', 'r') as f:\n",
    "            #read the complete csv file as a dict using below method\n",
    "            reader = csv.DictReader(f)\n",
    "            print(reader)\n",
    "            \n",
    "            items = list(reader)\n",
    "            print(items)\n",
    "        \n",
    "        for item in items:\n",
    "            print(item)\n",
    "            Item(name     = item.get('name'),\n",
    "                 price    = float(item.get('price')),\n",
    "                 quantity = int(item.get('quantity'))\n",
    "                )\n",
    "            \n",
    "    @staticmethod\n",
    "    def is_integer(num):\n",
    "        \n",
    "        if isinstance(num, float):\n",
    "            return num.is_integer()\n",
    "        elif isinstance(num, float):\n",
    "            return True\n",
    "        else:\n",
    "            return False\n",
    "        \n",
    "        \n",
    "    #Magic method (constructor) to define the way we want to represent the objects\n",
    "    def __repr__(self):\n",
    "        print('representation method')\n",
    "        return f\"Item('{self.name}', {self.price}, {self.quantity})\"\n"
   ]
  },
  {
   "cell_type": "code",
   "execution_count": 143,
   "id": "fb0a19d6",
   "metadata": {},
   "outputs": [
    {
     "data": {
      "text/plain": [
       "True"
      ]
     },
     "execution_count": 143,
     "metadata": {},
     "output_type": "execute_result"
    }
   ],
   "source": [
    "Item.is_integer(10.0)"
   ]
  }
 ],
 "metadata": {
  "kernelspec": {
   "display_name": "Python 3",
   "language": "python",
   "name": "python3"
  },
  "language_info": {
   "codemirror_mode": {
    "name": "ipython",
    "version": 3
   },
   "file_extension": ".py",
   "mimetype": "text/x-python",
   "name": "python",
   "nbconvert_exporter": "python",
   "pygments_lexer": "ipython3",
   "version": "3.8.8"
  }
 },
 "nbformat": 4,
 "nbformat_minor": 5
}
